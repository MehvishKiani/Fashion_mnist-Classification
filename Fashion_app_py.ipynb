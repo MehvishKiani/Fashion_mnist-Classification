{
  "nbformat": 4,
  "nbformat_minor": 0,
  "metadata": {
    "colab": {
      "provenance": [],
      "mount_file_id": "1_XOO0F2ZkO5g-vII0pA-yG3r9iiNVwZt",
      "authorship_tag": "ABX9TyNB5qTnV1PfDSJTJJYXzmol",
      "include_colab_link": true
    },
    "kernelspec": {
      "name": "python3",
      "display_name": "Python 3"
    },
    "language_info": {
      "name": "python"
    }
  },
  "cells": [
    {
      "cell_type": "markdown",
      "metadata": {
        "id": "view-in-github",
        "colab_type": "text"
      },
      "source": [
        "<a href=\"https://colab.research.google.com/github/MehvishKiani/Fashion_mnist-Classification/blob/main/Fashion_app_py.ipynb\" target=\"_parent\"><img src=\"https://colab.research.google.com/assets/colab-badge.svg\" alt=\"Open In Colab\"/></a>"
      ]
    },
    {
      "cell_type": "code",
      "source": [
        "!pip install streamlit"
      ],
      "metadata": {
        "colab": {
          "base_uri": "https://localhost:8080/"
        },
        "id": "GgugYS4JTy9s",
        "outputId": "8ccc3ef0-127d-4dba-dcaa-98652275c957"
      },
      "execution_count": 41,
      "outputs": [
        {
          "output_type": "stream",
          "name": "stdout",
          "text": [
            "Requirement already satisfied: streamlit in /usr/local/lib/python3.10/dist-packages (1.31.1)\n",
            "Requirement already satisfied: altair<6,>=4.0 in /usr/local/lib/python3.10/dist-packages (from streamlit) (4.2.2)\n",
            "Requirement already satisfied: blinker<2,>=1.0.0 in /usr/lib/python3/dist-packages (from streamlit) (1.4)\n",
            "Requirement already satisfied: cachetools<6,>=4.0 in /usr/local/lib/python3.10/dist-packages (from streamlit) (5.3.2)\n",
            "Requirement already satisfied: click<9,>=7.0 in /usr/local/lib/python3.10/dist-packages (from streamlit) (8.1.7)\n",
            "Requirement already satisfied: importlib-metadata<8,>=1.4 in /usr/local/lib/python3.10/dist-packages (from streamlit) (7.0.1)\n",
            "Requirement already satisfied: numpy<2,>=1.19.3 in /usr/local/lib/python3.10/dist-packages (from streamlit) (1.25.2)\n",
            "Requirement already satisfied: packaging<24,>=16.8 in /usr/local/lib/python3.10/dist-packages (from streamlit) (23.2)\n",
            "Requirement already satisfied: pandas<3,>=1.3.0 in /usr/local/lib/python3.10/dist-packages (from streamlit) (1.5.3)\n",
            "Requirement already satisfied: pillow<11,>=7.1.0 in /usr/local/lib/python3.10/dist-packages (from streamlit) (9.4.0)\n",
            "Requirement already satisfied: protobuf<5,>=3.20 in /usr/local/lib/python3.10/dist-packages (from streamlit) (3.20.3)\n",
            "Requirement already satisfied: pyarrow>=7.0 in /usr/local/lib/python3.10/dist-packages (from streamlit) (14.0.2)\n",
            "Requirement already satisfied: python-dateutil<3,>=2.7.3 in /usr/local/lib/python3.10/dist-packages (from streamlit) (2.8.2)\n",
            "Requirement already satisfied: requests<3,>=2.27 in /usr/local/lib/python3.10/dist-packages (from streamlit) (2.31.0)\n",
            "Requirement already satisfied: rich<14,>=10.14.0 in /usr/local/lib/python3.10/dist-packages (from streamlit) (13.7.0)\n",
            "Requirement already satisfied: tenacity<9,>=8.1.0 in /usr/local/lib/python3.10/dist-packages (from streamlit) (8.2.3)\n",
            "Requirement already satisfied: toml<2,>=0.10.1 in /usr/local/lib/python3.10/dist-packages (from streamlit) (0.10.2)\n",
            "Requirement already satisfied: typing-extensions<5,>=4.3.0 in /usr/local/lib/python3.10/dist-packages (from streamlit) (4.9.0)\n",
            "Requirement already satisfied: tzlocal<6,>=1.1 in /usr/local/lib/python3.10/dist-packages (from streamlit) (5.2)\n",
            "Requirement already satisfied: validators<1,>=0.2 in /usr/local/lib/python3.10/dist-packages (from streamlit) (0.22.0)\n",
            "Requirement already satisfied: gitpython!=3.1.19,<4,>=3.0.7 in /usr/local/lib/python3.10/dist-packages (from streamlit) (3.1.42)\n",
            "Requirement already satisfied: pydeck<1,>=0.8.0b4 in /usr/local/lib/python3.10/dist-packages (from streamlit) (0.8.1b0)\n",
            "Requirement already satisfied: tornado<7,>=6.0.3 in /usr/local/lib/python3.10/dist-packages (from streamlit) (6.3.2)\n",
            "Requirement already satisfied: watchdog>=2.1.5 in /usr/local/lib/python3.10/dist-packages (from streamlit) (4.0.0)\n",
            "Requirement already satisfied: entrypoints in /usr/local/lib/python3.10/dist-packages (from altair<6,>=4.0->streamlit) (0.4)\n",
            "Requirement already satisfied: jinja2 in /usr/local/lib/python3.10/dist-packages (from altair<6,>=4.0->streamlit) (3.1.3)\n",
            "Requirement already satisfied: jsonschema>=3.0 in /usr/local/lib/python3.10/dist-packages (from altair<6,>=4.0->streamlit) (4.19.2)\n",
            "Requirement already satisfied: toolz in /usr/local/lib/python3.10/dist-packages (from altair<6,>=4.0->streamlit) (0.12.1)\n",
            "Requirement already satisfied: gitdb<5,>=4.0.1 in /usr/local/lib/python3.10/dist-packages (from gitpython!=3.1.19,<4,>=3.0.7->streamlit) (4.0.11)\n",
            "Requirement already satisfied: zipp>=0.5 in /usr/local/lib/python3.10/dist-packages (from importlib-metadata<8,>=1.4->streamlit) (3.17.0)\n",
            "Requirement already satisfied: pytz>=2020.1 in /usr/local/lib/python3.10/dist-packages (from pandas<3,>=1.3.0->streamlit) (2023.4)\n",
            "Requirement already satisfied: six>=1.5 in /usr/local/lib/python3.10/dist-packages (from python-dateutil<3,>=2.7.3->streamlit) (1.16.0)\n",
            "Requirement already satisfied: charset-normalizer<4,>=2 in /usr/local/lib/python3.10/dist-packages (from requests<3,>=2.27->streamlit) (3.3.2)\n",
            "Requirement already satisfied: idna<4,>=2.5 in /usr/local/lib/python3.10/dist-packages (from requests<3,>=2.27->streamlit) (3.6)\n",
            "Requirement already satisfied: urllib3<3,>=1.21.1 in /usr/local/lib/python3.10/dist-packages (from requests<3,>=2.27->streamlit) (2.0.7)\n",
            "Requirement already satisfied: certifi>=2017.4.17 in /usr/local/lib/python3.10/dist-packages (from requests<3,>=2.27->streamlit) (2024.2.2)\n",
            "Requirement already satisfied: markdown-it-py>=2.2.0 in /usr/local/lib/python3.10/dist-packages (from rich<14,>=10.14.0->streamlit) (3.0.0)\n",
            "Requirement already satisfied: pygments<3.0.0,>=2.13.0 in /usr/local/lib/python3.10/dist-packages (from rich<14,>=10.14.0->streamlit) (2.16.1)\n",
            "Requirement already satisfied: smmap<6,>=3.0.1 in /usr/local/lib/python3.10/dist-packages (from gitdb<5,>=4.0.1->gitpython!=3.1.19,<4,>=3.0.7->streamlit) (5.0.1)\n",
            "Requirement already satisfied: MarkupSafe>=2.0 in /usr/local/lib/python3.10/dist-packages (from jinja2->altair<6,>=4.0->streamlit) (2.1.5)\n",
            "Requirement already satisfied: attrs>=22.2.0 in /usr/local/lib/python3.10/dist-packages (from jsonschema>=3.0->altair<6,>=4.0->streamlit) (23.2.0)\n",
            "Requirement already satisfied: jsonschema-specifications>=2023.03.6 in /usr/local/lib/python3.10/dist-packages (from jsonschema>=3.0->altair<6,>=4.0->streamlit) (2023.12.1)\n",
            "Requirement already satisfied: referencing>=0.28.4 in /usr/local/lib/python3.10/dist-packages (from jsonschema>=3.0->altair<6,>=4.0->streamlit) (0.33.0)\n",
            "Requirement already satisfied: rpds-py>=0.7.1 in /usr/local/lib/python3.10/dist-packages (from jsonschema>=3.0->altair<6,>=4.0->streamlit) (0.18.0)\n",
            "Requirement already satisfied: mdurl~=0.1 in /usr/local/lib/python3.10/dist-packages (from markdown-it-py>=2.2.0->rich<14,>=10.14.0->streamlit) (0.1.2)\n"
          ]
        }
      ]
    },
    {
      "cell_type": "code",
      "source": [
        "pip install virtualenv"
      ],
      "metadata": {
        "colab": {
          "base_uri": "https://localhost:8080/"
        },
        "id": "tVtQQRViUPbU",
        "outputId": "3774d3bb-5ab8-4a84-99d3-1e82b9e320e0"
      },
      "execution_count": 42,
      "outputs": [
        {
          "output_type": "stream",
          "name": "stdout",
          "text": [
            "Requirement already satisfied: virtualenv in /usr/local/lib/python3.10/dist-packages (20.25.1)\n",
            "Requirement already satisfied: distlib<1,>=0.3.7 in /usr/local/lib/python3.10/dist-packages (from virtualenv) (0.3.8)\n",
            "Requirement already satisfied: filelock<4,>=3.12.2 in /usr/local/lib/python3.10/dist-packages (from virtualenv) (3.13.1)\n",
            "Requirement already satisfied: platformdirs<5,>=3.9.1 in /usr/local/lib/python3.10/dist-packages (from virtualenv) (4.2.0)\n"
          ]
        }
      ]
    },
    {
      "cell_type": "code",
      "source": [
        "!virtualenv /content/drive/MyDrive/Fashion_mnist/venv\n"
      ],
      "metadata": {
        "colab": {
          "base_uri": "https://localhost:8080/"
        },
        "id": "7bRTVPtGUfye",
        "outputId": "222aada3-5c05-4415-f116-26559bbf000c"
      },
      "execution_count": 43,
      "outputs": [
        {
          "output_type": "stream",
          "name": "stdout",
          "text": [
            "created virtual environment CPython3.10.12.final.0-64 in 15300ms\n",
            "  creator CPython3Posix(dest=/content/drive/MyDrive/Fashion_mnist/venv, clear=False, no_vcs_ignore=False, global=False)\n",
            "  seeder FromAppData(download=False, pip=bundle, setuptools=bundle, wheel=bundle, via=copy, app_data_dir=/root/.local/share/virtualenv)\n",
            "    added seed packages: pip==24.0, setuptools==69.1.0, wheel==0.42.0\n",
            "  activators BashActivator,CShellActivator,FishActivator,NushellActivator,PowerShellActivator,PythonActivator\n"
          ]
        }
      ]
    },
    {
      "cell_type": "code",
      "source": [
        "!source /content/drive/MyDrive/Fashion_mnist/venv/bin/activate"
      ],
      "metadata": {
        "id": "P0L_kUBOUzFr"
      },
      "execution_count": 44,
      "outputs": []
    },
    {
      "cell_type": "code",
      "source": [
        "!pip install --upgrade tensorflow"
      ],
      "metadata": {
        "colab": {
          "base_uri": "https://localhost:8080/"
        },
        "id": "lx4iMXrVa8H3",
        "outputId": "999e39be-c626-4c3e-9cb1-b619107c8379"
      },
      "execution_count": 45,
      "outputs": [
        {
          "output_type": "stream",
          "name": "stdout",
          "text": [
            "Requirement already satisfied: tensorflow in /usr/local/lib/python3.10/dist-packages (2.15.0.post1)\n",
            "Requirement already satisfied: absl-py>=1.0.0 in /usr/local/lib/python3.10/dist-packages (from tensorflow) (1.4.0)\n",
            "Requirement already satisfied: astunparse>=1.6.0 in /usr/local/lib/python3.10/dist-packages (from tensorflow) (1.6.3)\n",
            "Requirement already satisfied: flatbuffers>=23.5.26 in /usr/local/lib/python3.10/dist-packages (from tensorflow) (23.5.26)\n",
            "Requirement already satisfied: gast!=0.5.0,!=0.5.1,!=0.5.2,>=0.2.1 in /usr/local/lib/python3.10/dist-packages (from tensorflow) (0.5.4)\n",
            "Requirement already satisfied: google-pasta>=0.1.1 in /usr/local/lib/python3.10/dist-packages (from tensorflow) (0.2.0)\n",
            "Requirement already satisfied: h5py>=2.9.0 in /usr/local/lib/python3.10/dist-packages (from tensorflow) (3.9.0)\n",
            "Requirement already satisfied: libclang>=13.0.0 in /usr/local/lib/python3.10/dist-packages (from tensorflow) (16.0.6)\n",
            "Requirement already satisfied: ml-dtypes~=0.2.0 in /usr/local/lib/python3.10/dist-packages (from tensorflow) (0.2.0)\n",
            "Requirement already satisfied: numpy<2.0.0,>=1.23.5 in /usr/local/lib/python3.10/dist-packages (from tensorflow) (1.25.2)\n",
            "Requirement already satisfied: opt-einsum>=2.3.2 in /usr/local/lib/python3.10/dist-packages (from tensorflow) (3.3.0)\n",
            "Requirement already satisfied: packaging in /usr/local/lib/python3.10/dist-packages (from tensorflow) (23.2)\n",
            "Requirement already satisfied: protobuf!=4.21.0,!=4.21.1,!=4.21.2,!=4.21.3,!=4.21.4,!=4.21.5,<5.0.0dev,>=3.20.3 in /usr/local/lib/python3.10/dist-packages (from tensorflow) (3.20.3)\n",
            "Requirement already satisfied: setuptools in /usr/local/lib/python3.10/dist-packages (from tensorflow) (67.7.2)\n",
            "Requirement already satisfied: six>=1.12.0 in /usr/local/lib/python3.10/dist-packages (from tensorflow) (1.16.0)\n",
            "Requirement already satisfied: termcolor>=1.1.0 in /usr/local/lib/python3.10/dist-packages (from tensorflow) (2.4.0)\n",
            "Requirement already satisfied: typing-extensions>=3.6.6 in /usr/local/lib/python3.10/dist-packages (from tensorflow) (4.9.0)\n",
            "Requirement already satisfied: wrapt<1.15,>=1.11.0 in /usr/local/lib/python3.10/dist-packages (from tensorflow) (1.14.1)\n",
            "Requirement already satisfied: tensorflow-io-gcs-filesystem>=0.23.1 in /usr/local/lib/python3.10/dist-packages (from tensorflow) (0.36.0)\n",
            "Requirement already satisfied: grpcio<2.0,>=1.24.3 in /usr/local/lib/python3.10/dist-packages (from tensorflow) (1.60.1)\n",
            "Requirement already satisfied: tensorboard<2.16,>=2.15 in /usr/local/lib/python3.10/dist-packages (from tensorflow) (2.15.2)\n",
            "Requirement already satisfied: tensorflow-estimator<2.16,>=2.15.0 in /usr/local/lib/python3.10/dist-packages (from tensorflow) (2.15.0)\n",
            "Requirement already satisfied: keras<2.16,>=2.15.0 in /usr/local/lib/python3.10/dist-packages (from tensorflow) (2.15.0)\n",
            "Requirement already satisfied: wheel<1.0,>=0.23.0 in /usr/local/lib/python3.10/dist-packages (from astunparse>=1.6.0->tensorflow) (0.42.0)\n",
            "Requirement already satisfied: google-auth<3,>=1.6.3 in /usr/local/lib/python3.10/dist-packages (from tensorboard<2.16,>=2.15->tensorflow) (2.27.0)\n",
            "Requirement already satisfied: google-auth-oauthlib<2,>=0.5 in /usr/local/lib/python3.10/dist-packages (from tensorboard<2.16,>=2.15->tensorflow) (1.2.0)\n",
            "Requirement already satisfied: markdown>=2.6.8 in /usr/local/lib/python3.10/dist-packages (from tensorboard<2.16,>=2.15->tensorflow) (3.5.2)\n",
            "Requirement already satisfied: requests<3,>=2.21.0 in /usr/local/lib/python3.10/dist-packages (from tensorboard<2.16,>=2.15->tensorflow) (2.31.0)\n",
            "Requirement already satisfied: tensorboard-data-server<0.8.0,>=0.7.0 in /usr/local/lib/python3.10/dist-packages (from tensorboard<2.16,>=2.15->tensorflow) (0.7.2)\n",
            "Requirement already satisfied: werkzeug>=1.0.1 in /usr/local/lib/python3.10/dist-packages (from tensorboard<2.16,>=2.15->tensorflow) (3.0.1)\n",
            "Requirement already satisfied: cachetools<6.0,>=2.0.0 in /usr/local/lib/python3.10/dist-packages (from google-auth<3,>=1.6.3->tensorboard<2.16,>=2.15->tensorflow) (5.3.2)\n",
            "Requirement already satisfied: pyasn1-modules>=0.2.1 in /usr/local/lib/python3.10/dist-packages (from google-auth<3,>=1.6.3->tensorboard<2.16,>=2.15->tensorflow) (0.3.0)\n",
            "Requirement already satisfied: rsa<5,>=3.1.4 in /usr/local/lib/python3.10/dist-packages (from google-auth<3,>=1.6.3->tensorboard<2.16,>=2.15->tensorflow) (4.9)\n",
            "Requirement already satisfied: requests-oauthlib>=0.7.0 in /usr/local/lib/python3.10/dist-packages (from google-auth-oauthlib<2,>=0.5->tensorboard<2.16,>=2.15->tensorflow) (1.3.1)\n",
            "Requirement already satisfied: charset-normalizer<4,>=2 in /usr/local/lib/python3.10/dist-packages (from requests<3,>=2.21.0->tensorboard<2.16,>=2.15->tensorflow) (3.3.2)\n",
            "Requirement already satisfied: idna<4,>=2.5 in /usr/local/lib/python3.10/dist-packages (from requests<3,>=2.21.0->tensorboard<2.16,>=2.15->tensorflow) (3.6)\n",
            "Requirement already satisfied: urllib3<3,>=1.21.1 in /usr/local/lib/python3.10/dist-packages (from requests<3,>=2.21.0->tensorboard<2.16,>=2.15->tensorflow) (2.0.7)\n",
            "Requirement already satisfied: certifi>=2017.4.17 in /usr/local/lib/python3.10/dist-packages (from requests<3,>=2.21.0->tensorboard<2.16,>=2.15->tensorflow) (2024.2.2)\n",
            "Requirement already satisfied: MarkupSafe>=2.1.1 in /usr/local/lib/python3.10/dist-packages (from werkzeug>=1.0.1->tensorboard<2.16,>=2.15->tensorflow) (2.1.5)\n",
            "Requirement already satisfied: pyasn1<0.6.0,>=0.4.6 in /usr/local/lib/python3.10/dist-packages (from pyasn1-modules>=0.2.1->google-auth<3,>=1.6.3->tensorboard<2.16,>=2.15->tensorflow) (0.5.1)\n",
            "Requirement already satisfied: oauthlib>=3.0.0 in /usr/local/lib/python3.10/dist-packages (from requests-oauthlib>=0.7.0->google-auth-oauthlib<2,>=0.5->tensorboard<2.16,>=2.15->tensorflow) (3.2.2)\n"
          ]
        }
      ]
    },
    {
      "cell_type": "code",
      "source": [
        "import streamlit as st\n",
        "import tensorflow as tf\n",
        "import matplotlib.pyplot as plt\n",
        "from PIL import Image, ImageOps\n",
        "import io\n",
        "import numpy as np\n",
        "import tensorflow as tf\n",
        "from tensorflow import keras\n",
        "import pickle\n",
        "import time"
      ],
      "metadata": {
        "id": "kPgz3lA-sBi0"
      },
      "execution_count": 46,
      "outputs": []
    },
    {
      "cell_type": "code",
      "source": [
        "st.markdown(\"\"\"\n",
        "    <style>\n",
        "    .reportview-container {\n",
        "        background: url(\"https://source.unsplash.com/1600x900/?sky,cloud\")\n",
        "    }\n",
        "   .sidebar .sidebar-content {\n",
        "        background: url(\"\")\n",
        "    }\n",
        "    </style>\n",
        "    \"\"\",\n",
        "    unsafe_allow_html=True\n",
        ")"
      ],
      "metadata": {
        "colab": {
          "base_uri": "https://localhost:8080/"
        },
        "id": "bi73HICA9ZvM",
        "outputId": "82bb7555-6b83-4f31-bc29-78df4d133c87"
      },
      "execution_count": 47,
      "outputs": [
        {
          "output_type": "execute_result",
          "data": {
            "text/plain": [
              "DeltaGenerator()"
            ]
          },
          "metadata": {},
          "execution_count": 47
        }
      ]
    },
    {
      "cell_type": "code",
      "source": [
        "# Your CNN and Sequential model loading code\n",
        "seq_model = tf.keras.models.load_model(\"/content/drive/MyDrive/Fashion_mnist/Seq_model\")  # Make sure this model is saved properly\n",
        "cnn_model = tf.keras.models.load_model(\"/content/drive/MyDrive/Fashion_mnist/cnn_model_save\")  # Make sure this model is saved properly\n"
      ],
      "metadata": {
        "id": "3phja-ut9dZd",
        "colab": {
          "base_uri": "https://localhost:8080/"
        },
        "outputId": "0a2444ac-cdf0-486c-a58d-4f371c258644"
      },
      "execution_count": 48,
      "outputs": [
        {
          "output_type": "stream",
          "name": "stderr",
          "text": [
            "WARNING:tensorflow:SavedModel saved prior to TF 2.5 detected when loading Keras model. Please ensure that you are saving the model with model.save() or tf.keras.models.save_model(), *NOT* tf.saved_model.save(). To confirm, there should be a file named \"keras_metadata.pb\" in the SavedModel directory.\n"
          ]
        }
      ]
    },
    {
      "cell_type": "code",
      "source": [
        "# Load Fashion MNIST dataset\n",
        "fas_data = keras.datasets.fashion_mnist\n",
        "(train_images, train_labels), (test_images, test_labels) = fas_data.load_data()"
      ],
      "metadata": {
        "id": "SGGY4ORfbP2n"
      },
      "execution_count": 49,
      "outputs": []
    },
    {
      "cell_type": "code",
      "source": [
        "add_selectbox = st.sidebar.selectbox(\n",
        "    'select the model for classification',\n",
        "    ('Sequential','CNN','About data','Pretrained Neural network','Demo Images','Working Demo','Contact us')\n",
        ")\n",
        "\n",
        "\n",
        "st.title(\"Fashion MNIST dataset Classification\")"
      ],
      "metadata": {
        "id": "h-OXazw39c1X",
        "colab": {
          "base_uri": "https://localhost:8080/"
        },
        "outputId": "29f309dc-4446-463d-8481-dc444e635f3c"
      },
      "execution_count": 50,
      "outputs": [
        {
          "output_type": "execute_result",
          "data": {
            "text/plain": [
              "DeltaGenerator()"
            ]
          },
          "metadata": {},
          "execution_count": 50
        }
      ]
    },
    {
      "cell_type": "code",
      "source": [
        "\n",
        "import numpy as np\n",
        "def explore_data(train_images,train_label,test_images):\n",
        "    st.write('Train Images shape:',train_images.shape)\n",
        "    st.write('Test images shape:',test_images.shape)\n",
        "    #st.write(train_labels[0:20])\n",
        "    st.write('Training Classes',len(np.unique(train_labels)))\n",
        "    st.write('Testing Classes',len(np.unique(test_labels)))\n",
        "\n",
        "def  CNN_model_summary():\n",
        "    img=Image.open(\"/content/drive/MyDrive/Fashion_mnist/Demo Images/cnn_summary.PNG\")\n",
        "    st.image(img)\n",
        "def  Seq_model_Summary():\n",
        "    img=Image.open(\"/content/drive/MyDrive/Fashion_mnist/Demo Images/Seq_summary.PNG\")\n",
        "    st.image(img)\n",
        "\n",
        "def seq_history_graph():\n",
        "    infile=open('seq_trainHistory',\"rb\")\n",
        "    history = pickle.load(infile)\n",
        "    plt.figure(figsize=(7,7))\n",
        "    train_acc=history['accuracy']\n",
        "    val_acc=history['val_accuracy']\n",
        "    train_loss=history['loss']\n",
        "    val_loss=history['val_loss']\n",
        "    plt.subplot(2,1,1)\n",
        "    plt.plot(train_acc,label='Training accuracy')\n",
        "    plt.plot(val_acc,label='Validation accuracy')\n",
        "    plt.legend()\n",
        "    plt.title('acc')\n",
        "    plt.subplot(2,1,2)\n",
        "    plt.plot(train_loss,label='Training loss')\n",
        "    plt.plot(val_loss,label='Validation loss')\n",
        "    plt.legend()\n",
        "    plt.title('loss')\n",
        "    st.set_option('deprecation.showPyplotGlobalUse', False)\n",
        "    st.pyplot()\n",
        "\n",
        "\n",
        "\n",
        "def cnn_history_graph():\n",
        "    infile=open('cnntrainHistory',\"rb\")\n",
        "    history = pickle.load(infile)\n",
        "    plt.figure(figsize=(7,7))\n",
        "    train_acc=history['accuracy']\n",
        "    val_acc=history['val_accuracy']\n",
        "    train_loss=history['loss']\n",
        "    val_loss=history['val_loss']\n",
        "    plt.subplot(2,1,1)\n",
        "    plt.plot(train_acc,label='Training accuracy')\n",
        "    plt.plot(val_acc,label='Validation accuracy')\n",
        "    plt.legend()\n",
        "    plt.title('acc')\n",
        "    plt.subplot(2,1,2)\n",
        "    plt.plot(train_loss,label='Training loss')\n",
        "    plt.plot(val_loss,label='Validation loss')\n",
        "    plt.legend()\n",
        "    plt.title('loss')\n",
        "    st.set_option('deprecation.showPyplotGlobalUse', False)\n",
        "    st.pyplot()\n",
        "\n",
        "\n",
        "def cnn_archi():\n",
        "    img=Image.open('/content/drive/MyDrive/Fashion_mnist/Demo Images/cnn_model_architecture.png')\n",
        "    st.image(img)\n",
        "def seq_archi():\n",
        "    img=Image.open('/content/drive/MyDrive/Fashion_mnist/Demo Images/seq_model_architecture.png')\n",
        "    st.image(img)\n",
        "\n",
        "\n",
        "def about_data(cnn_model,Seq_model):\n",
        "\n",
        "    if st.button(\"Explore Data\"):\n",
        "        explore_data(train_images,train_labels,test_images)\n",
        "\n",
        "    if st.button('CNN ModelSumarry'):\n",
        "\n",
        "        CNN_model_summary()\n",
        "    if st.button('CNN Model Architecture'):\n",
        "        cnn_archi()\n",
        "    if st.button('Seq ModelSumarry'):\n",
        "        Seq_model_Summary()\n",
        "\n",
        "    if st.button('Sequntial model Architecture'):\n",
        "        seq_archi()\n",
        "\n",
        "\n",
        "\n",
        "    if st.button('sequential model graph'):\n",
        "        seq_history_graph()\n",
        "    if st.button('CNN model graph'):\n",
        "        cnn_history_graph()\n",
        "\n",
        "if add_selectbox=='/content/drive/MyDrive/Fashion_mnist/Demo Images':\n",
        "  st.write(\"Please Upload the Following type of images of cloths for classification\")\n",
        "  image=Image.open(\"/content/drive/MyDrive/Fashion_mnist/Demo Images/shirt.jpeg\")\n",
        "  image=image.resize((180,180))\n",
        "  st.image(image)\n",
        "  image1=Image.open(\"/content/drive/MyDrive/Fashion_mnist/Demo Images/bag.jpg\")\n",
        "  image1=image1.resize((180,180))\n",
        "  st.image(image1)\n",
        "  image2=Image.open(\"/content/drive/MyDrive/Fashion_mnist/Demo Images/sneaker.jpg\")\n",
        "  image2=image2.resize((180,180))\n",
        "  st.image(image2)\n",
        "  image3=Image.open(\"/content/drive/MyDrive/Fashion_mnist/Demo Images/t-shirt.jfif\")\n",
        "  image3=image3.resize((180,180))\n",
        "  st.image(image3)\n",
        "  image4=Image.open(\"/content/drive/MyDrive/Fashion_mnist/Demo Images/blazer.jpg\")\n",
        "  image4=image4.resize((180,180))\n",
        "  st.image(image4)\n",
        "  image5=Image.open(\"/content/drive/MyDrive/Fashion_mnist/Demo Images/pant.jpg\")\n",
        "  image5=image5.resize((180,180))\n",
        "  st.image(image5)\n",
        "\n",
        "\n",
        "\n",
        "\n",
        "if add_selectbox=='About data':\n",
        "    about_data(cnn_model,Seq_model)\n",
        "\n",
        "if add_selectbox=='Pretrained Neural network':\n",
        "    st.info(\"working on it, updated soon!\")\n",
        "if add_selectbox=='Working Demo':\n",
        "    video_file = open('fashion-working-demo.webm', 'rb')\n",
        "    video_bytes = video_file.read()\n",
        "    st.video(video_bytes)\n",
        "\n",
        "if(add_selectbox=='Contact us'):\n",
        "    image=Image.open('/content/drive/MyDrive/Fashion_mnist/Demo Images/Mehvish.jpeg')\n",
        "    image=image.resize((400,400))\n",
        "    st.image(image)\n",
        "    st.write('Mehvish Kiani')\n",
        "    st.write('contact:mehvishkiani8@gmail.com')\n"
      ],
      "metadata": {
        "id": "yJCo2viPNYmG"
      },
      "execution_count": 51,
      "outputs": []
    },
    {
      "cell_type": "code",
      "source": [
        "# file uploader\n",
        "if add_selectbox == 'CNN' or add_selectbox == 'Sequential':\n",
        "    file_uploader = st.file_uploader('Upload cloth Image for Classification:')\n",
        "\n",
        "    if file_uploader is not None:\n",
        "        image = Image.open(file_uploader)\n",
        "        image = image.resize((180, 180))\n",
        "        st.image(image, 'Uploaded image:')\n",
        "\n",
        "        def classify_image(image, model):\n",
        "            st.write(\"classifying......\")\n",
        "            img = ImageOps.grayscale(image)\n",
        "            img = img.resize((28, 28))\n",
        "\n",
        "            if add_selectbox == 'Sequential':\n",
        "                img = np.expand_dims(img, 0)\n",
        "            else:\n",
        "                img = np.expand_dims(img, 0)\n",
        "                img = np.expand_dims(img, 3)\n",
        "\n",
        "            img = (img / 255.0)\n",
        "            img = 1 - img\n",
        "\n",
        "            pred = model.predict(img)\n",
        "\n",
        "            st.write(\"The Predicted image is:\", class_names[np.argmax(pred)])\n",
        "            st.write('Prediction probability :{:.2f}%'.format(np.max(pred) * 100))\n",
        "\n",
        "        st.write('Click for classify the image')\n",
        "\n",
        "        if st.button('Classify Image'):\n",
        "            if add_selectbox == 'Sequential':\n",
        "                st.write(\"You are chosen Image classification with Sequential Model\")\n",
        "                classify_image(image, seq_model)\n",
        "            elif add_selectbox == 'CNN':\n",
        "                st.write(\"You are chosen Image classification with CNN Model\")\n",
        "                classify_image(image, cnn_model)\n",
        "\n",
        "            st.success('This Image successfully classified!')\n",
        "            with st.spinner('Wait for it...'):\n",
        "                time.sleep(2)\n",
        "                st.success('Done!')\n",
        "                st.balloons()\n",
        "\n",
        "    else:\n",
        "        st.write(\"Please select an image:\")\n"
      ],
      "metadata": {
        "id": "ar5AoS4sNYih"
      },
      "execution_count": 65,
      "outputs": []
    },
    {
      "cell_type": "code",
      "source": [
        "# Run this code in a Colab cell\n",
        "\n",
        "!mkdir -p ~/.streamlit/\n",
        "\n",
        "!echo \"\\\n",
        "[general]\\n\\\n",
        "email = \\\"mehvishkiani8@gmail.com\\\"\\n\\\n",
        "\" > ~/.streamlit/credentials.toml\n",
        "\n",
        "!echo \"\\\n",
        "[server]\\n\\\n",
        "headless = true\\n\\\n",
        "enableCORS=false\\n\\\n",
        "port = $PORT\\n\\\n",
        "\" > ~/.streamlit/config.toml\n"
      ],
      "metadata": {
        "id": "Q4SpIOHma2kE"
      },
      "execution_count": 66,
      "outputs": []
    }
  ]
}